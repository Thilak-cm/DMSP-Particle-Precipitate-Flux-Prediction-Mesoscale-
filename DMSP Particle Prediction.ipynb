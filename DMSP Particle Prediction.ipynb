{
 "cells": [
  {
   "cell_type": "markdown",
   "id": "6826ce9c",
   "metadata": {},
   "source": [
    "# DMSP Particle Precipitate Flux Prediction (Mesoscale)\n"
   ]
  },
  {
   "cell_type": "markdown",
   "id": "2fedeae8",
   "metadata": {},
   "source": [
    "## Import Dependencies and Dataset"
   ]
  },
  {
   "cell_type": "code",
   "execution_count": 1,
   "id": "307ad1a8",
   "metadata": {
    "ExecuteTime": {
     "end_time": "2022-06-12T06:21:56.296052Z",
     "start_time": "2022-06-12T06:21:47.334101Z"
    }
   },
   "outputs": [],
   "source": [
    "import pandas as pd\n",
    "import numpy as np\n",
    "import seaborn as sns\n",
    "import matplotlib.pyplot as plt\n",
    "from sklearn.model_selection import train_test_split\n",
    "from sklearn.preprocessing import StandardScaler\n",
    "from keras.models import Sequential\n",
    "from keras.layers import Dense, Dropout\n",
    "from keras.callbacks import EarlyStopping\n",
    "\n",
    "%matplotlib inline"
   ]
  },
  {
   "cell_type": "code",
   "execution_count": 2,
   "id": "2a5cae33",
   "metadata": {
    "ExecuteTime": {
     "end_time": "2022-06-12T06:23:03.593511Z",
     "start_time": "2022-06-12T06:21:56.298413Z"
    }
   },
   "outputs": [],
   "source": [
    "# takes about 75 seconds\n",
    "df = pd.read_csv('AI_Ready_DMSP_Data.csv')"
   ]
  },
  {
   "cell_type": "markdown",
   "id": "fe3c362d",
   "metadata": {},
   "source": [
    "## EDA"
   ]
  },
  {
   "cell_type": "code",
   "execution_count": 3,
   "id": "3dbaf1a8",
   "metadata": {
    "ExecuteTime": {
     "end_time": "2022-06-12T06:23:03.786354Z",
     "start_time": "2022-06-12T06:23:03.619749Z"
    }
   },
   "outputs": [
    {
     "data": {
      "text/html": [
       "<div>\n",
       "<style scoped>\n",
       "    .dataframe tbody tr th:only-of-type {\n",
       "        vertical-align: middle;\n",
       "    }\n",
       "\n",
       "    .dataframe tbody tr th {\n",
       "        vertical-align: top;\n",
       "    }\n",
       "\n",
       "    .dataframe thead th {\n",
       "        text-align: right;\n",
       "    }\n",
       "</style>\n",
       "<table border=\"1\" class=\"dataframe\">\n",
       "  <thead>\n",
       "    <tr style=\"text-align: right;\">\n",
       "      <th></th>\n",
       "      <th>Datetimes</th>\n",
       "      <th>SC_AACGM_LAT</th>\n",
       "      <th>SC_AACGM_LTIME</th>\n",
       "      <th>ELE_TOTAL_ENERGY_FLUX</th>\n",
       "      <th>ELE_TOTAL_ENERGY_FLUX_STD</th>\n",
       "      <th>ELE_AVG_ENERGY</th>\n",
       "      <th>ELE_AVG_ENERGY_STD</th>\n",
       "      <th>ID_SC</th>\n",
       "      <th>sin_ut</th>\n",
       "      <th>cos_ut</th>\n",
       "      <th>...</th>\n",
       "      <th>AE_5min</th>\n",
       "      <th>AL_5min</th>\n",
       "      <th>AU_5min</th>\n",
       "      <th>SymH_5min</th>\n",
       "      <th>PC_5min</th>\n",
       "      <th>vsw_5min</th>\n",
       "      <th>vx_5min</th>\n",
       "      <th>psw_5min</th>\n",
       "      <th>borovsky_5min</th>\n",
       "      <th>newell_5min</th>\n",
       "    </tr>\n",
       "  </thead>\n",
       "  <tbody>\n",
       "    <tr>\n",
       "      <th>0</th>\n",
       "      <td>1987-01-12 12:57:00</td>\n",
       "      <td>51.143220</td>\n",
       "      <td>5.664024</td>\n",
       "      <td>2.057827e+08</td>\n",
       "      <td>0.411230</td>\n",
       "      <td>39.89341</td>\n",
       "      <td>0.411485</td>\n",
       "      <td>6.0</td>\n",
       "      <td>-0.246153</td>\n",
       "      <td>-0.969231</td>\n",
       "      <td>...</td>\n",
       "      <td>86.0</td>\n",
       "      <td>-61.0</td>\n",
       "      <td>25.0</td>\n",
       "      <td>3.0</td>\n",
       "      <td>0.77</td>\n",
       "      <td>356.0</td>\n",
       "      <td>-355.5</td>\n",
       "      <td>2.96</td>\n",
       "      <td>17439.640589</td>\n",
       "      <td>2489.686963</td>\n",
       "    </tr>\n",
       "    <tr>\n",
       "      <th>1</th>\n",
       "      <td>1987-01-12 12:58:00</td>\n",
       "      <td>54.137207</td>\n",
       "      <td>5.535848</td>\n",
       "      <td>2.509837e+08</td>\n",
       "      <td>0.478268</td>\n",
       "      <td>40.82392</td>\n",
       "      <td>0.478568</td>\n",
       "      <td>6.0</td>\n",
       "      <td>-0.250380</td>\n",
       "      <td>-0.968148</td>\n",
       "      <td>...</td>\n",
       "      <td>86.0</td>\n",
       "      <td>-61.0</td>\n",
       "      <td>25.0</td>\n",
       "      <td>3.0</td>\n",
       "      <td>0.77</td>\n",
       "      <td>356.0</td>\n",
       "      <td>-355.5</td>\n",
       "      <td>2.96</td>\n",
       "      <td>17439.640589</td>\n",
       "      <td>2489.686963</td>\n",
       "    </tr>\n",
       "    <tr>\n",
       "      <th>2</th>\n",
       "      <td>1987-01-12 13:01:00</td>\n",
       "      <td>62.928176</td>\n",
       "      <td>5.031172</td>\n",
       "      <td>4.469146e+08</td>\n",
       "      <td>0.603362</td>\n",
       "      <td>143.77360</td>\n",
       "      <td>0.604023</td>\n",
       "      <td>6.0</td>\n",
       "      <td>-0.263031</td>\n",
       "      <td>-0.964787</td>\n",
       "      <td>...</td>\n",
       "      <td>82.0</td>\n",
       "      <td>-58.0</td>\n",
       "      <td>24.0</td>\n",
       "      <td>3.0</td>\n",
       "      <td>0.77</td>\n",
       "      <td>354.7</td>\n",
       "      <td>-354.1</td>\n",
       "      <td>3.20</td>\n",
       "      <td>14199.368957</td>\n",
       "      <td>1847.748015</td>\n",
       "    </tr>\n",
       "    <tr>\n",
       "      <th>3</th>\n",
       "      <td>1987-01-12 13:02:00</td>\n",
       "      <td>65.719631</td>\n",
       "      <td>4.794780</td>\n",
       "      <td>1.934849e+10</td>\n",
       "      <td>0.103648</td>\n",
       "      <td>820.36560</td>\n",
       "      <td>0.103671</td>\n",
       "      <td>6.0</td>\n",
       "      <td>-0.267238</td>\n",
       "      <td>-0.963630</td>\n",
       "      <td>...</td>\n",
       "      <td>82.0</td>\n",
       "      <td>-58.0</td>\n",
       "      <td>24.0</td>\n",
       "      <td>3.0</td>\n",
       "      <td>0.77</td>\n",
       "      <td>354.7</td>\n",
       "      <td>-354.1</td>\n",
       "      <td>3.20</td>\n",
       "      <td>14199.368957</td>\n",
       "      <td>1847.748015</td>\n",
       "    </tr>\n",
       "    <tr>\n",
       "      <th>4</th>\n",
       "      <td>1987-01-12 13:03:00</td>\n",
       "      <td>68.392364</td>\n",
       "      <td>4.507448</td>\n",
       "      <td>3.913337e+11</td>\n",
       "      <td>0.114959</td>\n",
       "      <td>5291.57100</td>\n",
       "      <td>0.114959</td>\n",
       "      <td>6.0</td>\n",
       "      <td>-0.271440</td>\n",
       "      <td>-0.962455</td>\n",
       "      <td>...</td>\n",
       "      <td>82.0</td>\n",
       "      <td>-58.0</td>\n",
       "      <td>24.0</td>\n",
       "      <td>3.0</td>\n",
       "      <td>0.77</td>\n",
       "      <td>354.7</td>\n",
       "      <td>-354.1</td>\n",
       "      <td>3.20</td>\n",
       "      <td>14199.368957</td>\n",
       "      <td>1847.748015</td>\n",
       "    </tr>\n",
       "  </tbody>\n",
       "</table>\n",
       "<p>5 rows × 154 columns</p>\n",
       "</div>"
      ],
      "text/plain": [
       "             Datetimes  SC_AACGM_LAT  SC_AACGM_LTIME  ELE_TOTAL_ENERGY_FLUX  \\\n",
       "0  1987-01-12 12:57:00     51.143220        5.664024           2.057827e+08   \n",
       "1  1987-01-12 12:58:00     54.137207        5.535848           2.509837e+08   \n",
       "2  1987-01-12 13:01:00     62.928176        5.031172           4.469146e+08   \n",
       "3  1987-01-12 13:02:00     65.719631        4.794780           1.934849e+10   \n",
       "4  1987-01-12 13:03:00     68.392364        4.507448           3.913337e+11   \n",
       "\n",
       "   ELE_TOTAL_ENERGY_FLUX_STD  ELE_AVG_ENERGY  ELE_AVG_ENERGY_STD  ID_SC  \\\n",
       "0                   0.411230        39.89341            0.411485    6.0   \n",
       "1                   0.478268        40.82392            0.478568    6.0   \n",
       "2                   0.603362       143.77360            0.604023    6.0   \n",
       "3                   0.103648       820.36560            0.103671    6.0   \n",
       "4                   0.114959      5291.57100            0.114959    6.0   \n",
       "\n",
       "     sin_ut    cos_ut  ...  AE_5min  AL_5min  AU_5min  SymH_5min  PC_5min  \\\n",
       "0 -0.246153 -0.969231  ...     86.0    -61.0     25.0        3.0     0.77   \n",
       "1 -0.250380 -0.968148  ...     86.0    -61.0     25.0        3.0     0.77   \n",
       "2 -0.263031 -0.964787  ...     82.0    -58.0     24.0        3.0     0.77   \n",
       "3 -0.267238 -0.963630  ...     82.0    -58.0     24.0        3.0     0.77   \n",
       "4 -0.271440 -0.962455  ...     82.0    -58.0     24.0        3.0     0.77   \n",
       "\n",
       "   vsw_5min  vx_5min  psw_5min  borovsky_5min  newell_5min  \n",
       "0     356.0   -355.5      2.96   17439.640589  2489.686963  \n",
       "1     356.0   -355.5      2.96   17439.640589  2489.686963  \n",
       "2     354.7   -354.1      3.20   14199.368957  1847.748015  \n",
       "3     354.7   -354.1      3.20   14199.368957  1847.748015  \n",
       "4     354.7   -354.1      3.20   14199.368957  1847.748015  \n",
       "\n",
       "[5 rows x 154 columns]"
      ]
     },
     "execution_count": 3,
     "metadata": {},
     "output_type": "execute_result"
    }
   ],
   "source": [
    "df.head()"
   ]
  },
  {
   "cell_type": "code",
   "execution_count": 4,
   "id": "eee7c334",
   "metadata": {
    "ExecuteTime": {
     "end_time": "2022-06-12T06:23:03.823262Z",
     "start_time": "2022-06-12T06:23:03.789829Z"
    }
   },
   "outputs": [
    {
     "name": "stdout",
     "output_type": "stream",
     "text": [
      "<class 'pandas.core.frame.DataFrame'>\n",
      "RangeIndex: 1945887 entries, 0 to 1945886\n",
      "Columns: 154 entries, Datetimes to newell_5min\n",
      "dtypes: float64(153), object(1)\n",
      "memory usage: 2.2+ GB\n"
     ]
    }
   ],
   "source": [
    "df.info()"
   ]
  },
  {
   "cell_type": "code",
   "execution_count": 5,
   "id": "5327981f",
   "metadata": {
    "ExecuteTime": {
     "end_time": "2022-06-12T06:23:03.828899Z",
     "start_time": "2022-06-12T06:23:03.825640Z"
    }
   },
   "outputs": [],
   "source": [
    "# df.describe().T"
   ]
  },
  {
   "cell_type": "code",
   "execution_count": 6,
   "id": "19a5462f",
   "metadata": {
    "ExecuteTime": {
     "end_time": "2022-06-12T06:23:03.886637Z",
     "start_time": "2022-06-12T06:23:03.831514Z"
    }
   },
   "outputs": [
    {
     "data": {
      "text/html": [
       "<div>\n",
       "<style scoped>\n",
       "    .dataframe tbody tr th:only-of-type {\n",
       "        vertical-align: middle;\n",
       "    }\n",
       "\n",
       "    .dataframe tbody tr th {\n",
       "        vertical-align: top;\n",
       "    }\n",
       "\n",
       "    .dataframe thead th {\n",
       "        text-align: right;\n",
       "    }\n",
       "</style>\n",
       "<table border=\"1\" class=\"dataframe\">\n",
       "  <thead>\n",
       "    <tr style=\"text-align: right;\">\n",
       "      <th></th>\n",
       "      <th>Datetimes</th>\n",
       "    </tr>\n",
       "  </thead>\n",
       "  <tbody>\n",
       "    <tr>\n",
       "      <th>0</th>\n",
       "      <td>1987-01-12 12:57:00</td>\n",
       "    </tr>\n",
       "    <tr>\n",
       "      <th>1</th>\n",
       "      <td>1987-01-12 12:58:00</td>\n",
       "    </tr>\n",
       "    <tr>\n",
       "      <th>2</th>\n",
       "      <td>1987-01-12 13:01:00</td>\n",
       "    </tr>\n",
       "    <tr>\n",
       "      <th>3</th>\n",
       "      <td>1987-01-12 13:02:00</td>\n",
       "    </tr>\n",
       "    <tr>\n",
       "      <th>4</th>\n",
       "      <td>1987-01-12 13:03:00</td>\n",
       "    </tr>\n",
       "    <tr>\n",
       "      <th>...</th>\n",
       "      <td>...</td>\n",
       "    </tr>\n",
       "    <tr>\n",
       "      <th>1945882</th>\n",
       "      <td>2014-12-31 22:50:00</td>\n",
       "    </tr>\n",
       "    <tr>\n",
       "      <th>1945883</th>\n",
       "      <td>2014-12-31 22:51:00</td>\n",
       "    </tr>\n",
       "    <tr>\n",
       "      <th>1945884</th>\n",
       "      <td>2014-12-31 22:52:00</td>\n",
       "    </tr>\n",
       "    <tr>\n",
       "      <th>1945885</th>\n",
       "      <td>2014-12-31 22:53:00</td>\n",
       "    </tr>\n",
       "    <tr>\n",
       "      <th>1945886</th>\n",
       "      <td>2014-12-31 22:54:00</td>\n",
       "    </tr>\n",
       "  </tbody>\n",
       "</table>\n",
       "<p>1945887 rows × 1 columns</p>\n",
       "</div>"
      ],
      "text/plain": [
       "                   Datetimes\n",
       "0        1987-01-12 12:57:00\n",
       "1        1987-01-12 12:58:00\n",
       "2        1987-01-12 13:01:00\n",
       "3        1987-01-12 13:02:00\n",
       "4        1987-01-12 13:03:00\n",
       "...                      ...\n",
       "1945882  2014-12-31 22:50:00\n",
       "1945883  2014-12-31 22:51:00\n",
       "1945884  2014-12-31 22:52:00\n",
       "1945885  2014-12-31 22:53:00\n",
       "1945886  2014-12-31 22:54:00\n",
       "\n",
       "[1945887 rows x 1 columns]"
      ]
     },
     "execution_count": 6,
     "metadata": {},
     "output_type": "execute_result"
    }
   ],
   "source": [
    "df.select_dtypes(include='object')"
   ]
  },
  {
   "cell_type": "code",
   "execution_count": 7,
   "id": "10b374a0",
   "metadata": {
    "ExecuteTime": {
     "end_time": "2022-06-12T06:23:03.903280Z",
     "start_time": "2022-06-12T06:23:03.890392Z"
    }
   },
   "outputs": [
    {
     "name": "stdout",
     "output_type": "stream",
     "text": [
      "Target variable is\n"
     ]
    },
    {
     "data": {
      "text/plain": [
       "0    2.057827e+08\n",
       "1    2.509837e+08\n",
       "2    4.469146e+08\n",
       "3    1.934849e+10\n",
       "4    3.913337e+11\n",
       "Name: ELE_TOTAL_ENERGY_FLUX, dtype: float64"
      ]
     },
     "execution_count": 7,
     "metadata": {},
     "output_type": "execute_result"
    }
   ],
   "source": [
    "print(\"Target variable is\")\n",
    "df['ELE_TOTAL_ENERGY_FLUX'].head()"
   ]
  },
  {
   "cell_type": "code",
   "execution_count": 8,
   "id": "77f6577e",
   "metadata": {
    "ExecuteTime": {
     "end_time": "2022-06-12T06:23:04.608633Z",
     "start_time": "2022-06-12T06:23:03.912268Z"
    }
   },
   "outputs": [
    {
     "data": {
      "text/plain": [
       "<AxesSubplot:>"
      ]
     },
     "execution_count": 8,
     "metadata": {},
     "output_type": "execute_result"
    },
    {
     "data": {
      "image/png": "[encoded data removed]",
      "text/plain": [
       "<Figure size 1008x432 with 1 Axes>"
      ]
     },
     "metadata": {
      "needs_background": "light"
     },
     "output_type": "display_data"
    }
   ],
   "source": [
    "plt.figure(figsize=(14,6))\n",
    "df['ELE_TOTAL_ENERGY_FLUX'].plot()"
   ]
  },
  {
   "cell_type": "code",
   "execution_count": 9,
   "id": "4b2ff00f",
   "metadata": {
    "ExecuteTime": {
     "end_time": "2022-06-12T06:23:09.907425Z",
     "start_time": "2022-06-12T06:23:04.611290Z"
    }
   },
   "outputs": [
    {
     "data": {
      "text/plain": [
       "Series([], dtype: int64)"
      ]
     },
     "execution_count": 9,
     "metadata": {},
     "output_type": "execute_result"
    }
   ],
   "source": [
    "df.isna().sum()[df.isna().sum() != 0]"
   ]
  },
  {
   "cell_type": "markdown",
   "id": "6e0f659a",
   "metadata": {},
   "source": [
    "# Preprocessing"
   ]
  },
  {
   "cell_type": "code",
   "execution_count": 10,
   "id": "eb10c801",
   "metadata": {
    "ExecuteTime": {
     "end_time": "2022-06-12T06:23:10.364315Z",
     "start_time": "2022-06-12T06:23:09.910644Z"
    }
   },
   "outputs": [],
   "source": [
    "df['Datetimes'] = pd.to_datetime(df['Datetimes'])"
   ]
  },
  {
   "cell_type": "code",
   "execution_count": 11,
   "id": "fb481f1e",
   "metadata": {
    "ExecuteTime": {
     "end_time": "2022-06-12T06:23:13.214022Z",
     "start_time": "2022-06-12T06:23:10.366706Z"
    }
   },
   "outputs": [
    {
     "data": {
      "text/plain": [
       "152"
      ]
     },
     "execution_count": 11,
     "metadata": {},
     "output_type": "execute_result"
    }
   ],
   "source": [
    "X = df.drop(['ELE_TOTAL_ENERGY_FLUX', 'Datetimes'], axis=1)\n",
    "y = df['ELE_TOTAL_ENERGY_FLUX']\n",
    "# X_train, X_test, y_train, y_test = train_test_split(X, y, test_size=0.3, random_state=42)"
   ]
  },
  {
   "cell_type": "code",
   "execution_count": 18,
   "id": "22afbc56",
   "metadata": {
    "ExecuteTime": {
     "end_time": "2022-06-12T06:25:10.757976Z",
     "start_time": "2022-06-12T06:25:10.752690Z"
    }
   },
   "outputs": [
    {
     "name": "stdout",
     "output_type": "stream",
     "text": [
      "(1945887, 152)\n",
      "(1945887, 1)\n"
     ]
    }
   ],
   "source": [
    "print(X.shape)\n",
    "print(y.reshape(-1,1).shape)"
   ]
  },
  {
   "cell_type": "code",
   "execution_count": 13,
   "id": "5d7f10a6",
   "metadata": {
    "ExecuteTime": {
     "end_time": "2022-06-12T06:24:01.336144Z",
     "start_time": "2022-06-12T06:23:31.157761Z"
    }
   },
   "outputs": [],
   "source": [
    "scaler1 = StandardScaler()\n",
    "X = scaler1.fit_transform(X)\n",
    "# X_test = scaler.transform(X_test)"
   ]
  },
  {
   "cell_type": "code",
   "execution_count": 19,
   "id": "eb04712a",
   "metadata": {
    "ExecuteTime": {
     "end_time": "2022-06-12T06:25:24.196346Z",
     "start_time": "2022-06-12T06:25:24.150687Z"
    }
   },
   "outputs": [],
   "source": [
    "scaler2 = StandardScaler()\n",
    "y = scaler2.fit_transform(y.reshape(-1,1))\n",
    "# y_test = scaler.transform([y_test])"
   ]
  },
  {
   "cell_type": "code",
   "execution_count": 20,
   "id": "26baca6a",
   "metadata": {
    "ExecuteTime": {
     "end_time": "2022-06-12T06:25:26.232021Z",
     "start_time": "2022-06-12T06:25:26.228775Z"
    }
   },
   "outputs": [
    {
     "name": "stdout",
     "output_type": "stream",
     "text": [
      "(1945887, 152)\n",
      "(1945887, 1)\n"
     ]
    }
   ],
   "source": [
    "print(X.shape)\n",
    "print(y.shape)"
   ]
  },
  {
   "cell_type": "markdown",
   "id": "066b3ecb",
   "metadata": {},
   "source": [
    "## Create NN model"
   ]
  },
  {
   "cell_type": "code",
   "execution_count": 21,
   "id": "1973e2ef",
   "metadata": {
    "ExecuteTime": {
     "end_time": "2022-06-12T06:25:33.506420Z",
     "start_time": "2022-06-12T06:25:32.712337Z"
    }
   },
   "outputs": [
    {
     "name": "stdout",
     "output_type": "stream",
     "text": [
      "Model: \"sequential\"\n",
      "_________________________________________________________________\n",
      "Layer (type)                 Output Shape              Param #   \n",
      "=================================================================\n",
      "dense (Dense)                (None, 100)               15300     \n",
      "_________________________________________________________________\n",
      "dropout (Dropout)            (None, 100)               0         \n",
      "_________________________________________________________________\n",
      "dense_1 (Dense)              (None, 50)                5050      \n",
      "_________________________________________________________________\n",
      "dropout_1 (Dropout)          (None, 50)                0         \n",
      "_________________________________________________________________\n",
      "dense_2 (Dense)              (None, 25)                1275      \n",
      "_________________________________________________________________\n",
      "dense_3 (Dense)              (None, 1)                 26        \n",
      "=================================================================\n",
      "Total params: 21,651\n",
      "Trainable params: 21,651\n",
      "Non-trainable params: 0\n",
      "_________________________________________________________________\n"
     ]
    }
   ],
   "source": [
    "# instantiate the model\n",
    "model = Sequential()\n",
    "# create the model\n",
    "model.add(Dense(100, input_dim=152, activation='relu'))\n",
    "model.add(Dropout(0.2))\n",
    "model.add(Dense(50, activation='relu'))\n",
    "model.add(Dropout(0.2))\n",
    "model.add(Dense(25, activation='relu'))\n",
    "model.add(Dense(1, activation='linear'))\n",
    "# compile the model\n",
    "model.compile(loss='mean_squared_error', optimizer='adam', metrics=['mean_absolute_error', 'mean_squared_error'])\n",
    "# summarize the model\n",
    "model.summary()"
   ]
  },
  {
   "cell_type": "code",
   "execution_count": 22,
   "id": "2057d300",
   "metadata": {
    "ExecuteTime": {
     "end_time": "2022-06-12T06:25:33.512514Z",
     "start_time": "2022-06-12T06:25:33.509181Z"
    }
   },
   "outputs": [],
   "source": [
    "early_stop = EarlyStopping(monitor='val_loss', patience=25, verbose=1, mode='min')"
   ]
  },
  {
   "cell_type": "code",
   "execution_count": 24,
   "id": "f972eb47",
   "metadata": {
    "ExecuteTime": {
     "end_time": "2022-06-12T06:26:03.758198Z",
     "start_time": "2022-06-12T06:25:40.750823Z"
    }
   },
   "outputs": [],
   "source": [
    "# X_train = np.asarray(X_train).astype('float32')\n",
    "# X_test = np.asarray(X_test).astype('float32')\n",
    "X_train, X_test, y_train, y_test = train_test_split(X, y, test_size=0.3, random_state=42)"
   ]
  },
  {
   "cell_type": "code",
   "execution_count": 25,
   "id": "a555f184",
   "metadata": {
    "ExecuteTime": {
     "end_time": "2022-06-12T06:33:10.827736Z",
     "start_time": "2022-06-12T06:26:03.789333Z"
    }
   },
   "outputs": [
    {
     "name": "stdout",
     "output_type": "stream",
     "text": [
      "Epoch 1/50\n",
      "21284/21284 [==============================] - 44s 2ms/step - loss: 3.1644e-04 - mean_absolute_error: 0.0028 - mean_squared_error: 3.1644e-04 - val_loss: 9.8854e-12 - val_mean_absolute_error: 3.1441e-06 - val_mean_squared_error: 9.8854e-12\n",
      "Epoch 2/50\n",
      "21284/21284 [==============================] - 33s 2ms/step - loss: 3.4218e-09 - mean_absolute_error: 1.4956e-05 - mean_squared_error: 3.4218e-09 - val_loss: 5.7349e-12 - val_mean_absolute_error: 2.3949e-06 - val_mean_squared_error: 5.7349e-12\n",
      "Epoch 3/50\n",
      "21284/21284 [==============================] - 40s 2ms/step - loss: 1.1477e-09 - mean_absolute_error: 1.0465e-05 - mean_squared_error: 1.1477e-09 - val_loss: 6.0162e-15 - val_mean_absolute_error: 7.7572e-08 - val_mean_squared_error: 6.0162e-15\n",
      "Epoch 4/50\n",
      "21284/21284 [==============================] - 38s 2ms/step - loss: 9.9454e-10 - mean_absolute_error: 9.5129e-06 - mean_squared_error: 9.9454e-10 - val_loss: 8.6640e-22 - val_mean_absolute_error: 2.9435e-11 - val_mean_squared_error: 8.6640e-22\n",
      "Epoch 5/50\n",
      "21284/21284 [==============================] - 34s 2ms/step - loss: 8.4804e-10 - mean_absolute_error: 8.9146e-06 - mean_squared_error: 8.4804e-10 - val_loss: 1.3557e-21 - val_mean_absolute_error: 3.6816e-11 - val_mean_squared_error: 1.3557e-21\n",
      "Epoch 6/50\n",
      "21284/21284 [==============================] - 33s 2ms/step - loss: 1.2598e-08 - mean_absolute_error: 7.6021e-06 - mean_squared_error: 1.2598e-08 - val_loss: 1.3657e-13 - val_mean_absolute_error: 3.6952e-07 - val_mean_squared_error: 1.3657e-13\n",
      "Epoch 7/50\n",
      "21284/21284 [==============================] - 34s 2ms/step - loss: 2.6579e-09 - mean_absolute_error: 6.8885e-06 - mean_squared_error: 2.6579e-09 - val_loss: 1.3813e-20 - val_mean_absolute_error: 1.1754e-10 - val_mean_squared_error: 1.3813e-20\n",
      "Epoch 8/50\n",
      "21284/21284 [==============================] - 33s 2ms/step - loss: 2.1276e-09 - mean_absolute_error: 6.8263e-06 - mean_squared_error: 2.1276e-09 - val_loss: 1.3829e-17 - val_mean_absolute_error: 3.7184e-09 - val_mean_squared_error: 1.3829e-17\n",
      "Epoch 9/50\n",
      "21284/21284 [==============================] - 33s 2ms/step - loss: 2.8517e-09 - mean_absolute_error: 7.3928e-06 - mean_squared_error: 2.8517e-09 - val_loss: 4.7718e-23 - val_mean_absolute_error: 6.9072e-12 - val_mean_squared_error: 4.7718e-23\n",
      "Epoch 10/50\n",
      "21284/21284 [==============================] - 37s 2ms/step - loss: 1.5487e-09 - mean_absolute_error: 8.1838e-06 - mean_squared_error: 1.5487e-09 - val_loss: 2.6264e-11 - val_mean_absolute_error: 5.1251e-06 - val_mean_squared_error: 2.6264e-11\n",
      "Epoch 11/50\n",
      "21284/21284 [==============================] - 46s 2ms/step - loss: 7.8512e-10 - mean_absolute_error: 7.8976e-06 - mean_squared_error: 7.8512e-10 - val_loss: 5.1727e-15 - val_mean_absolute_error: 7.1923e-08 - val_mean_squared_error: 5.1727e-15\n",
      "Epoch 12/50\n",
      " 4204/21284 [====>.........................] - ETA: 27s - loss: 8.1697e-10 - mean_absolute_error: 9.4441e-06 - mean_squared_error: 8.1697e-10"
     ]
    },
    {
     "ename": "KeyboardInterrupt",
     "evalue": "",
     "output_type": "error",
     "traceback": [
      "\u001b[0;31m---------------------------------------------------------------------------\u001b[0m",
      "\u001b[0;31mKeyboardInterrupt\u001b[0m                         Traceback (most recent call last)",
      "\u001b[0;32m<ipython-input-25-8f29601f960f>\u001b[0m in \u001b[0;36m<module>\u001b[0;34m\u001b[0m\n\u001b[0;32m----> 1\u001b[0;31m \u001b[0mmodel\u001b[0m\u001b[0;34m.\u001b[0m\u001b[0mfit\u001b[0m\u001b[0;34m(\u001b[0m\u001b[0mX_train\u001b[0m\u001b[0;34m,\u001b[0m \u001b[0my_train\u001b[0m\u001b[0;34m,\u001b[0m \u001b[0mbatch_size\u001b[0m\u001b[0;34m=\u001b[0m\u001b[0;36m64\u001b[0m\u001b[0;34m,\u001b[0m \u001b[0mcallbacks\u001b[0m\u001b[0;34m=\u001b[0m\u001b[0;34m[\u001b[0m\u001b[0mearly_stop\u001b[0m\u001b[0;34m]\u001b[0m\u001b[0;34m,\u001b[0m \u001b[0mepochs\u001b[0m\u001b[0;34m=\u001b[0m\u001b[0;36m50\u001b[0m\u001b[0;34m,\u001b[0m \u001b[0mvalidation_data\u001b[0m\u001b[0;34m=\u001b[0m\u001b[0;34m(\u001b[0m\u001b[0mX_test\u001b[0m\u001b[0;34m,\u001b[0m \u001b[0my_test\u001b[0m\u001b[0;34m)\u001b[0m\u001b[0;34m)\u001b[0m\u001b[0;34m\u001b[0m\u001b[0;34m\u001b[0m\u001b[0m\n\u001b[0m",
      "\u001b[0;32m~/opt/anaconda3/lib/python3.8/site-packages/keras/engine/training.py\u001b[0m in \u001b[0;36mfit\u001b[0;34m(self, x, y, batch_size, epochs, verbose, callbacks, validation_split, validation_data, shuffle, class_weight, sample_weight, initial_epoch, steps_per_epoch, validation_steps, validation_batch_size, validation_freq, max_queue_size, workers, use_multiprocessing)\u001b[0m\n\u001b[1;32m   1182\u001b[0m                 _r=1):\n\u001b[1;32m   1183\u001b[0m               \u001b[0mcallbacks\u001b[0m\u001b[0;34m.\u001b[0m\u001b[0mon_train_batch_begin\u001b[0m\u001b[0;34m(\u001b[0m\u001b[0mstep\u001b[0m\u001b[0;34m)\u001b[0m\u001b[0;34m\u001b[0m\u001b[0;34m\u001b[0m\u001b[0m\n\u001b[0;32m-> 1184\u001b[0;31m               \u001b[0mtmp_logs\u001b[0m \u001b[0;34m=\u001b[0m \u001b[0mself\u001b[0m\u001b[0;34m.\u001b[0m\u001b[0mtrain_function\u001b[0m\u001b[0;34m(\u001b[0m\u001b[0miterator\u001b[0m\u001b[0;34m)\u001b[0m\u001b[0;34m\u001b[0m\u001b[0;34m\u001b[0m\u001b[0m\n\u001b[0m\u001b[1;32m   1185\u001b[0m               \u001b[0;32mif\u001b[0m \u001b[0mdata_handler\u001b[0m\u001b[0;34m.\u001b[0m\u001b[0mshould_sync\u001b[0m\u001b[0;34m:\u001b[0m\u001b[0;34m\u001b[0m\u001b[0;34m\u001b[0m\u001b[0m\n\u001b[1;32m   1186\u001b[0m                 \u001b[0mcontext\u001b[0m\u001b[0;34m.\u001b[0m\u001b[0masync_wait\u001b[0m\u001b[0;34m(\u001b[0m\u001b[0;34m)\u001b[0m\u001b[0;34m\u001b[0m\u001b[0;34m\u001b[0m\u001b[0m\n",
      "\u001b[0;32m~/opt/anaconda3/lib/python3.8/site-packages/tensorflow/python/eager/def_function.py\u001b[0m in \u001b[0;36m__call__\u001b[0;34m(self, *args, **kwds)\u001b[0m\n\u001b[1;32m    883\u001b[0m \u001b[0;34m\u001b[0m\u001b[0m\n\u001b[1;32m    884\u001b[0m       \u001b[0;32mwith\u001b[0m \u001b[0mOptionalXlaContext\u001b[0m\u001b[0;34m(\u001b[0m\u001b[0mself\u001b[0m\u001b[0;34m.\u001b[0m\u001b[0m_jit_compile\u001b[0m\u001b[0;34m)\u001b[0m\u001b[0;34m:\u001b[0m\u001b[0;34m\u001b[0m\u001b[0;34m\u001b[0m\u001b[0m\n\u001b[0;32m--> 885\u001b[0;31m         \u001b[0mresult\u001b[0m \u001b[0;34m=\u001b[0m \u001b[0mself\u001b[0m\u001b[0;34m.\u001b[0m\u001b[0m_call\u001b[0m\u001b[0;34m(\u001b[0m\u001b[0;34m*\u001b[0m\u001b[0margs\u001b[0m\u001b[0;34m,\u001b[0m \u001b[0;34m**\u001b[0m\u001b[0mkwds\u001b[0m\u001b[0;34m)\u001b[0m\u001b[0;34m\u001b[0m\u001b[0;34m\u001b[0m\u001b[0m\n\u001b[0m\u001b[1;32m    886\u001b[0m \u001b[0;34m\u001b[0m\u001b[0m\n\u001b[1;32m    887\u001b[0m       \u001b[0mnew_tracing_count\u001b[0m \u001b[0;34m=\u001b[0m \u001b[0mself\u001b[0m\u001b[0;34m.\u001b[0m\u001b[0mexperimental_get_tracing_count\u001b[0m\u001b[0;34m(\u001b[0m\u001b[0;34m)\u001b[0m\u001b[0;34m\u001b[0m\u001b[0;34m\u001b[0m\u001b[0m\n",
      "\u001b[0;32m~/opt/anaconda3/lib/python3.8/site-packages/tensorflow/python/eager/def_function.py\u001b[0m in \u001b[0;36m_call\u001b[0;34m(self, *args, **kwds)\u001b[0m\n\u001b[1;32m    915\u001b[0m       \u001b[0;31m# In this case we have created variables on the first call, so we run the\u001b[0m\u001b[0;34m\u001b[0m\u001b[0;34m\u001b[0m\u001b[0;34m\u001b[0m\u001b[0m\n\u001b[1;32m    916\u001b[0m       \u001b[0;31m# defunned version which is guaranteed to never create variables.\u001b[0m\u001b[0;34m\u001b[0m\u001b[0;34m\u001b[0m\u001b[0;34m\u001b[0m\u001b[0m\n\u001b[0;32m--> 917\u001b[0;31m       \u001b[0;32mreturn\u001b[0m \u001b[0mself\u001b[0m\u001b[0;34m.\u001b[0m\u001b[0m_stateless_fn\u001b[0m\u001b[0;34m(\u001b[0m\u001b[0;34m*\u001b[0m\u001b[0margs\u001b[0m\u001b[0;34m,\u001b[0m \u001b[0;34m**\u001b[0m\u001b[0mkwds\u001b[0m\u001b[0;34m)\u001b[0m  \u001b[0;31m# pylint: disable=not-callable\u001b[0m\u001b[0;34m\u001b[0m\u001b[0;34m\u001b[0m\u001b[0m\n\u001b[0m\u001b[1;32m    918\u001b[0m     \u001b[0;32melif\u001b[0m \u001b[0mself\u001b[0m\u001b[0;34m.\u001b[0m\u001b[0m_stateful_fn\u001b[0m \u001b[0;32mis\u001b[0m \u001b[0;32mnot\u001b[0m \u001b[0;32mNone\u001b[0m\u001b[0;34m:\u001b[0m\u001b[0;34m\u001b[0m\u001b[0;34m\u001b[0m\u001b[0m\n\u001b[1;32m    919\u001b[0m       \u001b[0;31m# Release the lock early so that multiple threads can perform the call\u001b[0m\u001b[0;34m\u001b[0m\u001b[0;34m\u001b[0m\u001b[0;34m\u001b[0m\u001b[0m\n",
      "\u001b[0;32m~/opt/anaconda3/lib/python3.8/site-packages/tensorflow/python/eager/function.py\u001b[0m in \u001b[0;36m__call__\u001b[0;34m(self, *args, **kwargs)\u001b[0m\n\u001b[1;32m   3037\u001b[0m       (graph_function,\n\u001b[1;32m   3038\u001b[0m        filtered_flat_args) = self._maybe_define_function(args, kwargs)\n\u001b[0;32m-> 3039\u001b[0;31m     return graph_function._call_flat(\n\u001b[0m\u001b[1;32m   3040\u001b[0m         filtered_flat_args, captured_inputs=graph_function.captured_inputs)  # pylint: disable=protected-access\n\u001b[1;32m   3041\u001b[0m \u001b[0;34m\u001b[0m\u001b[0m\n",
      "\u001b[0;32m~/opt/anaconda3/lib/python3.8/site-packages/tensorflow/python/eager/function.py\u001b[0m in \u001b[0;36m_call_flat\u001b[0;34m(self, args, captured_inputs, cancellation_manager)\u001b[0m\n\u001b[1;32m   1961\u001b[0m         and executing_eagerly):\n\u001b[1;32m   1962\u001b[0m       \u001b[0;31m# No tape is watching; skip to running the function.\u001b[0m\u001b[0;34m\u001b[0m\u001b[0;34m\u001b[0m\u001b[0;34m\u001b[0m\u001b[0m\n\u001b[0;32m-> 1963\u001b[0;31m       return self._build_call_outputs(self._inference_function.call(\n\u001b[0m\u001b[1;32m   1964\u001b[0m           ctx, args, cancellation_manager=cancellation_manager))\n\u001b[1;32m   1965\u001b[0m     forward_backward = self._select_forward_and_backward_functions(\n",
      "\u001b[0;32m~/opt/anaconda3/lib/python3.8/site-packages/tensorflow/python/eager/function.py\u001b[0m in \u001b[0;36mcall\u001b[0;34m(self, ctx, args, cancellation_manager)\u001b[0m\n\u001b[1;32m    589\u001b[0m       \u001b[0;32mwith\u001b[0m \u001b[0m_InterpolateFunctionError\u001b[0m\u001b[0;34m(\u001b[0m\u001b[0mself\u001b[0m\u001b[0;34m)\u001b[0m\u001b[0;34m:\u001b[0m\u001b[0;34m\u001b[0m\u001b[0;34m\u001b[0m\u001b[0m\n\u001b[1;32m    590\u001b[0m         \u001b[0;32mif\u001b[0m \u001b[0mcancellation_manager\u001b[0m \u001b[0;32mis\u001b[0m \u001b[0;32mNone\u001b[0m\u001b[0;34m:\u001b[0m\u001b[0;34m\u001b[0m\u001b[0;34m\u001b[0m\u001b[0m\n\u001b[0;32m--> 591\u001b[0;31m           outputs = execute.execute(\n\u001b[0m\u001b[1;32m    592\u001b[0m               \u001b[0mstr\u001b[0m\u001b[0;34m(\u001b[0m\u001b[0mself\u001b[0m\u001b[0;34m.\u001b[0m\u001b[0msignature\u001b[0m\u001b[0;34m.\u001b[0m\u001b[0mname\u001b[0m\u001b[0;34m)\u001b[0m\u001b[0;34m,\u001b[0m\u001b[0;34m\u001b[0m\u001b[0;34m\u001b[0m\u001b[0m\n\u001b[1;32m    593\u001b[0m               \u001b[0mnum_outputs\u001b[0m\u001b[0;34m=\u001b[0m\u001b[0mself\u001b[0m\u001b[0;34m.\u001b[0m\u001b[0m_num_outputs\u001b[0m\u001b[0;34m,\u001b[0m\u001b[0;34m\u001b[0m\u001b[0;34m\u001b[0m\u001b[0m\n",
      "\u001b[0;32m~/opt/anaconda3/lib/python3.8/site-packages/tensorflow/python/eager/execute.py\u001b[0m in \u001b[0;36mquick_execute\u001b[0;34m(op_name, num_outputs, inputs, attrs, ctx, name)\u001b[0m\n\u001b[1;32m     57\u001b[0m   \u001b[0;32mtry\u001b[0m\u001b[0;34m:\u001b[0m\u001b[0;34m\u001b[0m\u001b[0;34m\u001b[0m\u001b[0m\n\u001b[1;32m     58\u001b[0m     \u001b[0mctx\u001b[0m\u001b[0;34m.\u001b[0m\u001b[0mensure_initialized\u001b[0m\u001b[0;34m(\u001b[0m\u001b[0;34m)\u001b[0m\u001b[0;34m\u001b[0m\u001b[0;34m\u001b[0m\u001b[0m\n\u001b[0;32m---> 59\u001b[0;31m     tensors = pywrap_tfe.TFE_Py_Execute(ctx._handle, device_name, op_name,\n\u001b[0m\u001b[1;32m     60\u001b[0m                                         inputs, attrs, num_outputs)\n\u001b[1;32m     61\u001b[0m   \u001b[0;32mexcept\u001b[0m \u001b[0mcore\u001b[0m\u001b[0;34m.\u001b[0m\u001b[0m_NotOkStatusException\u001b[0m \u001b[0;32mas\u001b[0m \u001b[0me\u001b[0m\u001b[0;34m:\u001b[0m\u001b[0;34m\u001b[0m\u001b[0;34m\u001b[0m\u001b[0m\n",
      "\u001b[0;31mKeyboardInterrupt\u001b[0m: "
     ]
    }
   ],
   "source": [
    "model.fit(X_train, y_train, batch_size=64, callbacks=[early_stop], epochs=50, validation_data=(X_test, y_test))"
   ]
  },
  {
   "cell_type": "code",
   "execution_count": 26,
   "id": "466158cd",
   "metadata": {
    "ExecuteTime": {
     "end_time": "2022-06-12T06:33:27.098003Z",
     "start_time": "2022-06-12T06:33:14.944532Z"
    }
   },
   "outputs": [],
   "source": [
    "predictions = model.predict(X_test)"
   ]
  },
  {
   "cell_type": "code",
   "execution_count": 27,
   "id": "7959a668",
   "metadata": {
    "ExecuteTime": {
     "end_time": "2022-06-12T06:33:27.180660Z",
     "start_time": "2022-06-12T06:33:27.101217Z"
    }
   },
   "outputs": [
    {
     "data": {
      "text/plain": [
       "array([[-1.1256989e-09],\n",
       "       [-1.1256989e-09],\n",
       "       [-1.1256989e-09],\n",
       "       ...,\n",
       "       [-1.1256989e-09],\n",
       "       [-1.1256989e-09],\n",
       "       [-1.1256989e-09]], dtype=float32)"
      ]
     },
     "execution_count": 27,
     "metadata": {},
     "output_type": "execute_result"
    }
   ],
   "source": [
    "scaler2.inverse_transform(predictions)"
   ]
  },
  {
   "cell_type": "code",
   "execution_count": 30,
   "id": "f8cce0d2",
   "metadata": {
    "ExecuteTime": {
     "end_time": "2022-06-12T06:34:21.500153Z",
     "start_time": "2022-06-12T06:34:21.437511Z"
    }
   },
   "outputs": [
    {
     "data": {
      "text/plain": [
       "0          2.057827e+08\n",
       "1          2.509837e+08\n",
       "2          4.469146e+08\n",
       "3          1.934849e+10\n",
       "4          3.913337e+11\n",
       "               ...     \n",
       "1945882    2.231577e+08\n",
       "1945883    3.074197e+08\n",
       "1945884    1.917582e+08\n",
       "1945885    2.265864e+08\n",
       "1945886    1.160843e+09\n",
       "Name: ELE_TOTAL_ENERGY_FLUX, Length: 1945887, dtype: float64"
      ]
     },
     "execution_count": 30,
     "metadata": {},
     "output_type": "execute_result"
    }
   ],
   "source": [
    "df['ELE_TOTAL_ENERGY_FLUX']"
   ]
  },
  {
   "cell_type": "code",
   "execution_count": 31,
   "id": "2260006f",
   "metadata": {
    "ExecuteTime": {
     "end_time": "2022-06-12T06:34:49.146511Z",
     "start_time": "2022-06-12T06:34:49.141180Z"
    }
   },
   "outputs": [
    {
     "data": {
      "text/plain": [
       "1"
      ]
     },
     "execution_count": 31,
     "metadata": {},
     "output_type": "execute_result"
    }
   ],
   "source": [
    "scaler2.n_features_in_"
   ]
  },
  {
   "cell_type": "code",
   "execution_count": 32,
   "id": "3fd98a70",
   "metadata": {
    "ExecuteTime": {
     "end_time": "2022-06-12T06:34:49.863393Z",
     "start_time": "2022-06-12T06:34:49.858547Z"
    }
   },
   "outputs": [
    {
     "data": {
      "text/plain": [
       "(583767, 1)"
      ]
     },
     "execution_count": 32,
     "metadata": {},
     "output_type": "execute_result"
    }
   ],
   "source": [
    "predictions.shape"
   ]
  },
  {
   "cell_type": "code",
   "execution_count": 33,
   "id": "70e873de",
   "metadata": {
    "ExecuteTime": {
     "end_time": "2022-06-12T06:34:50.279213Z",
     "start_time": "2022-06-12T06:34:50.273388Z"
    }
   },
   "outputs": [
    {
     "data": {
      "text/plain": [
       "(1945887, 1)"
      ]
     },
     "execution_count": 33,
     "metadata": {},
     "output_type": "execute_result"
    }
   ],
   "source": [
    "y.shape"
   ]
  },
  {
   "cell_type": "code",
   "execution_count": 34,
   "id": "535ecb01",
   "metadata": {
    "ExecuteTime": {
     "end_time": "2022-06-12T06:34:50.641019Z",
     "start_time": "2022-06-12T06:34:50.636715Z"
    }
   },
   "outputs": [
    {
     "data": {
      "text/plain": [
       "(1945887, 152)"
      ]
     },
     "execution_count": 34,
     "metadata": {},
     "output_type": "execute_result"
    }
   ],
   "source": [
    "X.shape"
   ]
  },
  {
   "cell_type": "code",
   "execution_count": 35,
   "id": "573d3095",
   "metadata": {
    "ExecuteTime": {
     "end_time": "2022-06-12T06:34:51.017182Z",
     "start_time": "2022-06-12T06:34:51.009393Z"
    }
   },
   "outputs": [
    {
     "data": {
      "text/plain": [
       "(1, 1945887)"
      ]
     },
     "execution_count": 35,
     "metadata": {},
     "output_type": "execute_result"
    }
   ],
   "source": [
    "y.T.shape"
   ]
  },
  {
   "cell_type": "code",
   "execution_count": null,
   "id": "99f87437",
   "metadata": {},
   "outputs": [],
   "source": []
  }
 ],
 "metadata": {
  "kernelspec": {
   "display_name": "Python 3",
   "language": "python",
   "name": "python3"
  },
  "language_info": {
   "codemirror_mode": {
    "name": "ipython",
    "version": 3
   },
   "file_extension": ".py",
   "mimetype": "text/x-python",
   "name": "python",
   "nbconvert_exporter": "python",
   "pygments_lexer": "ipython3",
   "version": "3.8.8"
  }
 },
 "nbformat": 4,
 "nbformat_minor": 5
}
